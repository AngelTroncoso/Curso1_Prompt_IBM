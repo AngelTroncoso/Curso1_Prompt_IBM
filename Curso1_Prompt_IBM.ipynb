{
  "nbformat": 4,
  "nbformat_minor": 0,
  "metadata": {
    "colab": {
      "provenance": [],
      "toc_visible": true,
      "authorship_tag": "ABX9TyMedSJ3UVDWLi6kX6EeXiPV",
      "include_colab_link": true
    },
    "kernelspec": {
      "name": "python3",
      "display_name": "Python 3"
    },
    "language_info": {
      "name": "python"
    }
  },
  "cells": [
    {
      "cell_type": "markdown",
      "metadata": {
        "id": "view-in-github",
        "colab_type": "text"
      },
      "source": [
        "<a href=\"https://colab.research.google.com/github/AngelTroncoso/Curso1_Prompt_IBM/blob/main/Curso1_Prompt_IBM.ipynb\" target=\"_parent\"><img src=\"https://colab.research.google.com/assets/colab-badge.svg\" alt=\"Open In Colab\"/></a>"
      ]
    },
    {
      "cell_type": "markdown",
      "source": [
        "#**Laboratorio Práctico: Proyecto Final: IA Generativa para Ciencia de Datos**"
      ],
      "metadata": {
        "id": "hgO5o5JahGIP"
      }
    },
    {
      "cell_type": "markdown",
      "source": [
        "Esfuerzo Estimado: 60 mins  \n",
        "Escenario del Proyecto"
      ],
      "metadata": {
        "id": "dxNS-YG0hKhF"
      }
    },
    {
      "cell_type": "markdown",
      "source": [
        "Has sido contratado como Científico de Datos por una firma de consultoría. La firma tiene un cliente que es un concesionario de autos usados. Tienen una característica especial en los autos Ford y quieren que tu firma diseñe un modelo que pueda predecir el precio óptimo de cotización para los autos en su lote. Te proporcionan datos de ventas de los últimos años. El conjunto de datos contiene diferentes características de los autos y el precio al que fueron vendidos.\n",
        "\n",
        "##**Las tareas asignadas son las siguientes:**\n",
        "\n",
        "- Puede haber algunas entradas duplicadas y algunos valores faltantes en el conjunto de datos. La limpieza de datos será parte de la tarea.  \n",
        "\n",
        "- Debes realizar un análisis exploratorio de datos para obtener información detallada sobre los datos y determinar el efecto de diferentes características en el precio. Algunas solicitudes específicas del cliente incluyen:  \n",
        "a. Identificar el número de ventas para cada tipo de combustible  \n",
        "b. Identificar qué tipo de transmisión tiene más valores atípicos en el precio\n",
        "\n",
        "- Comparar los modelos con regresiones lineales, polinómicas y de ridge en variables simples y múltiples para encontrar el modelo de mejor rendimiento\n",
        "\n",
        "- Realizar una búsqueda en cuadrícula en el modelo de regresión de Ridge para identificar el hiperparámetro óptimo para el modelo para el mejor rendimiento.\n",
        "Decides utilizar IA Generativa para crear códigos en Python que te ayuden a analizar los datos, determinar las mejores características y crear el modelo de predicción según los requisitos."
      ],
      "metadata": {
        "id": "ICmgEl3bhQgZ"
      }
    },
    {
      "cell_type": "markdown",
      "source": [
        "##**Acerca del Conjunto de Datos**"
      ],
      "metadata": {
        "id": "ND7B-tNtiM6g"
      }
    },
    {
      "cell_type": "markdown",
      "source": [
        "Este conjunto de datos contiene precios de venta de autos usados para autos Ford. Este es un conjunto de datos público disponible en el sitio web de Kaggle como Conjunto de Datos de Precios de Autos Ford bajo la licencia CC0: Dominio Público. El conjunto de datos ha sido ligeramente modificado para los propósitos de este proyecto."
      ],
      "metadata": {
        "id": "6iWFq5i-iSPX"
      }
    },
    {
      "cell_type": "markdown",
      "source": [
        "**Los atributos de este conjunto de datos se explican a continuación:**  \n",
        "\n",
        "Variable\tDescripción :\n",
        "\n",
        "model\tNombre del modelo del auto\n",
        "year\tAño de fabricación del auto  \n",
        "transmission\tTipo de transmisión (Automática, Manual o Semi-Automática)  \n",
        "mileage\tNúmero de millas recorridas  \n",
        "fuelType\tEl tipo de combustible que usa el auto (Gasolina, Diésel, Híbrido, Eléctrico, Otro)  \n",
        "tax\tImpuesto anual a pagar en USD  \n",
        "mpg\tMillas por Galón que recorre el auto  \n",
        "engineSize\tTamaño del motor del auto  \n",
        "price\tPrecio del auto en USD  "
      ],
      "metadata": {
        "id": "pOaDaAcxiaG4"
      }
    },
    {
      "cell_type": "markdown",
      "source": [
        "#**Entorno de ejecución del código**"
      ],
      "metadata": {
        "id": "Gq_-OfQyjEeC"
      }
    },
    {
      "cell_type": "markdown",
      "source": [
        "**Leer un archivo de datos CSV y cargarlo en un marco de datos:**\n",
        "\n",
        "Escribe un código en Python que pueda realizar las siguientes tareas:\n",
        "Leer el archivo CSV, ubicado en una ruta de archivo dada, en un marco de datos de Pandas, asumiendo que las primeras filas del archivo son los encabezados de los datos."
      ],
      "metadata": {
        "id": "VM8_yLzzovOZ"
      }
    },
    {
      "cell_type": "code",
      "source": [
        "# 1. Cargar el dataset\n",
        "URL = \"https://cf-courses-data.s3.us.cloud-object-storage.appdomain.cloud/IBMSkillsNetwork-AI0271EN-SkillsNetwork/labs/v1/m3/data/used_car_price_analysis.csv\"\n",
        "df = pd.read_csv(URL)"
      ],
      "metadata": {
        "id": "Wev99r3RouQA"
      },
      "execution_count": 54,
      "outputs": []
    },
    {
      "cell_type": "markdown",
      "source": [
        "##**Limpieza de datos: Identificar y reemplazar valores faltantes según las siguientes pautas:**"
      ],
      "metadata": {
        "id": "jvLM2QyluSEb"
      }
    },
    {
      "cell_type": "markdown",
      "source": [
        "\n",
        "\n",
        "**1. Reemplazar las entradas faltantes en columnas que contienen valores categóricos con las entradas más frecuentes.**  \n",
        "**2. Reemplazar las entradas faltantes en columnas con datos continuos con el valor medio de la columna.**  \n",
        "**3. Si falta un valor en la columna objetivo, es posible que necesites eliminar esa fila.**  \n",
        "\n",
        "Escribe un código en Python para realizar las siguientes tareas:\n",
        "1. Identificar los atributos con valores faltantes.\n",
        "2. Segregar estos atributos en atributos categóricos y atributos de valor continuo.\n",
        "3. Eliminar toda la fila si falta el valor en la variable objetivo.\n",
        "4. Si falta el valor en un atributo categórico, reemplazar los valores faltantes con el valor más frecuente en la columna.\n",
        "5. Si falta el valor en un atributo de valor continuo, reemplazar los valores faltantes con el valor medio de las entradas en la columna."
      ],
      "metadata": {
        "id": "tt1DPh32olDw"
      }
    },
    {
      "cell_type": "code",
      "source": [
        "df.columns"
      ],
      "metadata": {
        "colab": {
          "base_uri": "https://localhost:8080/"
        },
        "id": "IjEddtgIySlV",
        "outputId": "f9c0c93e-0721-4a33-ea98-af9f3ba1888e"
      },
      "execution_count": 55,
      "outputs": [
        {
          "output_type": "execute_result",
          "data": {
            "text/plain": [
              "Index(['model', 'year', 'transmission', 'mileage', 'fuelType', 'tax', 'mpg',\n",
              "       'engineSize', 'price'],\n",
              "      dtype='object')"
            ]
          },
          "metadata": {},
          "execution_count": 55
        }
      ]
    },
    {
      "cell_type": "code",
      "source": [
        "df = df.rename(columns={\n",
        "    'model': 'modelo',\n",
        "    'year': 'año',\n",
        "    'transmission': 'transmisión',\n",
        "    'mileage': 'millas',\n",
        "    'fuelType': 'tipo_de_combustible',\n",
        "    'tax': 'impuesto',\n",
        "    'mpg': 'millas_por_galón',\n",
        "    'engineSize': 'tamaño_del_motor',\n",
        "    'price': 'precio'\n",
        "})"
      ],
      "metadata": {
        "id": "EJtuldV7yU5A"
      },
      "execution_count": 114,
      "outputs": []
    },
    {
      "cell_type": "code",
      "source": [
        "import pandas as pd\n",
        "import numpy as np\n",
        "\n",
        "# Suponiendo que df es tu DataFrame y 'price' es la variable objetivo\n",
        "df = pd.DataFrame({\n",
        "    'modelo': ['A', 'B', np.nan, 'A', 'B'],\n",
        "    'año': [2010, 2015, 2020, np.nan, 2012],\n",
        "    'transmisión': ['manual', np.nan, 'automática', 'manual', 'automática'],\n",
        "    'millas': [50000, 30000, np.nan, 70000, 40000],\n",
        "    'tipo_de_combustible': ['gasolina', 'diesel', 'gasolina', np.nan, 'diesel'],\n",
        "    'impuesto': [100, 150, 120, 110, np.nan],\n",
        "    'millas_por_galón': [30, np.nan, 25, 35, 28],\n",
        "    'tamaño_del_motor': [1.6, 2.0, 1.8, np.nan, 1.7],\n",
        "    'precio': [10000, 15000, np.nan, 12000, 11000]\n",
        "})\n",
        "\n",
        "variable_objetivo = 'precio'\n",
        "\n",
        "# Identificar atributos con valores faltantes\n",
        "atributos_con_valores_faltantes = df.columns[df.isnull().any()].tolist()\n",
        "print(\"Atributos con valores faltantes:\", atributos_con_valores_faltantes)\n",
        "\n",
        "# Segregar atributos en categóricos y continuos\n",
        "atributos_categoricos = df.select_dtypes(include=['object']).columns.intersection(atributos_con_valores_faltantes).tolist()\n",
        "atributos_continuos = df.select_dtypes(include=['int64', 'float64']).columns.intersection(atributos_con_valores_faltantes).tolist()\n",
        "print(\"Atributos categóricos con valores faltantes:\", atributos_categoricos)\n",
        "print(\"Atributos continuos con valores faltantes:\", atributos_continuos)\n",
        "\n",
        "# Eliminar filas con valores faltantes en la variable objetivo\n",
        "df = df.dropna(subset=[variable_objetivo]).copy()  # Utilizar .copy() para evitar el warning\n",
        "\n",
        "# Reemplazar valores faltantes en atributos categóricos con el valor más frecuente\n",
        "for atributo in atributos_categoricos:\n",
        "    modo = str(df[atributo].mode().iloc[0])  # Convertir el modo a cadena\n",
        "    df.loc[:, atributo] = df[atributo].fillna(modo)\n",
        "\n",
        "# Reemplazar valores faltantes en atributos continuos con el valor medio\n",
        "for atributo in atributos_continuos:\n",
        "    if atributo != variable_objetivo:\n",
        "        df.loc[:, atributo] = df[atributo].fillna(df[atributo].mean())\n",
        "\n",
        "print(df)\n"
      ],
      "metadata": {
        "colab": {
          "base_uri": "https://localhost:8080/"
        },
        "id": "dfRP5wKZoPuT",
        "outputId": "4c5179d8-7ec7-43ef-ba0f-feea402f84ba"
      },
      "execution_count": 117,
      "outputs": [
        {
          "output_type": "stream",
          "name": "stdout",
          "text": [
            "Atributos con valores faltantes: ['modelo', 'año', 'transmisión', 'millas', 'tipo_de_combustible', 'impuesto', 'millas_por_galón', 'tamaño_del_motor', 'precio']\n",
            "Atributos categóricos con valores faltantes: ['modelo', 'transmisión', 'tipo_de_combustible']\n",
            "Atributos continuos con valores faltantes: ['año', 'millas', 'impuesto', 'millas_por_galón', 'tamaño_del_motor', 'precio']\n",
            "  modelo          año transmisión   millas tipo_de_combustible  impuesto  \\\n",
            "0      A  2010.000000      manual  50000.0            gasolina     100.0   \n",
            "1      B  2015.000000      manual  30000.0              diesel     150.0   \n",
            "3      A  2012.333333      manual  70000.0              diesel     110.0   \n",
            "4      B  2012.000000  automática  40000.0              diesel     120.0   \n",
            "\n",
            "   millas_por_galón  tamaño_del_motor   precio  \n",
            "0              30.0          1.600000  10000.0  \n",
            "1              31.0          2.000000  15000.0  \n",
            "3              35.0          1.766667  12000.0  \n",
            "4              28.0          1.700000  11000.0  \n"
          ]
        }
      ]
    },
    {
      "cell_type": "markdown",
      "source": [
        "##**Normalización de datos: Normalizar un atributo a su valor máximo:**"
      ],
      "metadata": {
        "id": "Of3sNLYvuYMj"
      }
    },
    {
      "cell_type": "markdown",
      "source": [
        "\n",
        "Escribe un código en Python para normalizar el contenido bajo un atributo dado en un marco de datos df a su valor máximo. Realiza cambios en los datos originales y no crees un nuevo atributo."
      ],
      "metadata": {
        "id": "DI8nRzNZo4c-"
      }
    },
    {
      "cell_type": "code",
      "source": [
        "def normalizar_a_maximo(df, atributo):\n",
        "    maximo = df[atributo].max()\n",
        "    if maximo != 0:  # Evitar división por cero\n",
        "        df[atributo] = df[atributo] / maximo\n",
        "    else:\n",
        "        print(\"No se puede normalizar porque el valor máximo es cero.\")\n",
        "\n",
        "# Uso\n",
        "atributo_a_normalizar = 'precio'  # Reemplaza con el nombre del atributo que deseas normalizar\n",
        "normalizar_a_maximo(df, atributo_a_normalizar)\n"
      ],
      "metadata": {
        "id": "kgI1oFnJo5--"
      },
      "execution_count": 118,
      "outputs": []
    },
    {
      "cell_type": "markdown",
      "source": [
        "##**Conversión de variable categórica en variables indicadoras**"
      ],
      "metadata": {
        "id": "CgdWfUuOuiqJ"
      }
    },
    {
      "cell_type": "markdown",
      "source": [
        "\n",
        "\n",
        "Escribe un código en Python para realizar las siguientes tareas:\n",
        "1. Convertir un atributo de marco de datos df en variables indicadoras, guardadas como df1, con la convención de nombres “Nombre_<valor único del atributo>”.\n",
        "2. Agregar df1 al marco de datos original df.\n",
        "3. Eliminar el atributo original del marco de datos df."
      ],
      "metadata": {
        "id": "SWEfll72sqjL"
      }
    },
    {
      "cell_type": "code",
      "source": [
        "import pandas as pd\n",
        "\n",
        "def convertir_a_indicadoras(df, atributo):\n",
        "    # Crear variables indicadoras\n",
        "    df1 = pd.get_dummies(df[atributo], prefix=atributo, dtype=int)\n",
        "\n",
        "    # Agregar df1 al marco de datos original df\n",
        "    df = pd.concat([df, df1], axis=1)\n",
        "\n",
        "    # Eliminar el atributo original del marco de datos df\n",
        "    df = df.drop(atributo, axis=1)\n",
        "\n",
        "    return df\n",
        "\n",
        "# Uso\n",
        "atributo_a_convertir = 'modelo'  # Reemplaza con el nombre del atributo que deseas convertir\n",
        "df = convertir_a_indicadoras(df, atributo_a_convertir)\n"
      ],
      "metadata": {
        "id": "61j3TB8sqwwm"
      },
      "execution_count": 120,
      "outputs": []
    },
    {
      "cell_type": "code",
      "source": [
        "df.head()"
      ],
      "metadata": {
        "colab": {
          "base_uri": "https://localhost:8080/",
          "height": 175
        },
        "id": "ecoCRSY3tiQD",
        "outputId": "42b87cb7-146b-4ccb-ef15-7f642791a9e7"
      },
      "execution_count": 121,
      "outputs": [
        {
          "output_type": "execute_result",
          "data": {
            "text/plain": [
              "           año transmisión   millas tipo_de_combustible  impuesto  \\\n",
              "0  2010.000000      manual  50000.0            gasolina     100.0   \n",
              "1  2015.000000      manual  30000.0              diesel     150.0   \n",
              "3  2012.333333      manual  70000.0              diesel     110.0   \n",
              "4  2012.000000  automática  40000.0              diesel     120.0   \n",
              "\n",
              "   millas_por_galón  tamaño_del_motor    precio  modelo_A  modelo_B  \n",
              "0              30.0          1.600000  0.666667         1         0  \n",
              "1              31.0          2.000000  1.000000         0         1  \n",
              "3              35.0          1.766667  0.800000         1         0  \n",
              "4              28.0          1.700000  0.733333         0         1  "
            ],
            "text/html": [
              "\n",
              "  <div id=\"df-c9196df0-63c5-440d-b9eb-ba801043ec80\" class=\"colab-df-container\">\n",
              "    <div>\n",
              "<style scoped>\n",
              "    .dataframe tbody tr th:only-of-type {\n",
              "        vertical-align: middle;\n",
              "    }\n",
              "\n",
              "    .dataframe tbody tr th {\n",
              "        vertical-align: top;\n",
              "    }\n",
              "\n",
              "    .dataframe thead th {\n",
              "        text-align: right;\n",
              "    }\n",
              "</style>\n",
              "<table border=\"1\" class=\"dataframe\">\n",
              "  <thead>\n",
              "    <tr style=\"text-align: right;\">\n",
              "      <th></th>\n",
              "      <th>año</th>\n",
              "      <th>transmisión</th>\n",
              "      <th>millas</th>\n",
              "      <th>tipo_de_combustible</th>\n",
              "      <th>impuesto</th>\n",
              "      <th>millas_por_galón</th>\n",
              "      <th>tamaño_del_motor</th>\n",
              "      <th>precio</th>\n",
              "      <th>modelo_A</th>\n",
              "      <th>modelo_B</th>\n",
              "    </tr>\n",
              "  </thead>\n",
              "  <tbody>\n",
              "    <tr>\n",
              "      <th>0</th>\n",
              "      <td>2010.000000</td>\n",
              "      <td>manual</td>\n",
              "      <td>50000.0</td>\n",
              "      <td>gasolina</td>\n",
              "      <td>100.0</td>\n",
              "      <td>30.0</td>\n",
              "      <td>1.600000</td>\n",
              "      <td>0.666667</td>\n",
              "      <td>1</td>\n",
              "      <td>0</td>\n",
              "    </tr>\n",
              "    <tr>\n",
              "      <th>1</th>\n",
              "      <td>2015.000000</td>\n",
              "      <td>manual</td>\n",
              "      <td>30000.0</td>\n",
              "      <td>diesel</td>\n",
              "      <td>150.0</td>\n",
              "      <td>31.0</td>\n",
              "      <td>2.000000</td>\n",
              "      <td>1.000000</td>\n",
              "      <td>0</td>\n",
              "      <td>1</td>\n",
              "    </tr>\n",
              "    <tr>\n",
              "      <th>3</th>\n",
              "      <td>2012.333333</td>\n",
              "      <td>manual</td>\n",
              "      <td>70000.0</td>\n",
              "      <td>diesel</td>\n",
              "      <td>110.0</td>\n",
              "      <td>35.0</td>\n",
              "      <td>1.766667</td>\n",
              "      <td>0.800000</td>\n",
              "      <td>1</td>\n",
              "      <td>0</td>\n",
              "    </tr>\n",
              "    <tr>\n",
              "      <th>4</th>\n",
              "      <td>2012.000000</td>\n",
              "      <td>automática</td>\n",
              "      <td>40000.0</td>\n",
              "      <td>diesel</td>\n",
              "      <td>120.0</td>\n",
              "      <td>28.0</td>\n",
              "      <td>1.700000</td>\n",
              "      <td>0.733333</td>\n",
              "      <td>0</td>\n",
              "      <td>1</td>\n",
              "    </tr>\n",
              "  </tbody>\n",
              "</table>\n",
              "</div>\n",
              "    <div class=\"colab-df-buttons\">\n",
              "\n",
              "  <div class=\"colab-df-container\">\n",
              "    <button class=\"colab-df-convert\" onclick=\"convertToInteractive('df-c9196df0-63c5-440d-b9eb-ba801043ec80')\"\n",
              "            title=\"Convert this dataframe to an interactive table.\"\n",
              "            style=\"display:none;\">\n",
              "\n",
              "  <svg xmlns=\"http://www.w3.org/2000/svg\" height=\"24px\" viewBox=\"0 -960 960 960\">\n",
              "    <path d=\"M120-120v-720h720v720H120Zm60-500h600v-160H180v160Zm220 220h160v-160H400v160Zm0 220h160v-160H400v160ZM180-400h160v-160H180v160Zm440 0h160v-160H620v160ZM180-180h160v-160H180v160Zm440 0h160v-160H620v160Z\"/>\n",
              "  </svg>\n",
              "    </button>\n",
              "\n",
              "  <style>\n",
              "    .colab-df-container {\n",
              "      display:flex;\n",
              "      gap: 12px;\n",
              "    }\n",
              "\n",
              "    .colab-df-convert {\n",
              "      background-color: #E8F0FE;\n",
              "      border: none;\n",
              "      border-radius: 50%;\n",
              "      cursor: pointer;\n",
              "      display: none;\n",
              "      fill: #1967D2;\n",
              "      height: 32px;\n",
              "      padding: 0 0 0 0;\n",
              "      width: 32px;\n",
              "    }\n",
              "\n",
              "    .colab-df-convert:hover {\n",
              "      background-color: #E2EBFA;\n",
              "      box-shadow: 0px 1px 2px rgba(60, 64, 67, 0.3), 0px 1px 3px 1px rgba(60, 64, 67, 0.15);\n",
              "      fill: #174EA6;\n",
              "    }\n",
              "\n",
              "    .colab-df-buttons div {\n",
              "      margin-bottom: 4px;\n",
              "    }\n",
              "\n",
              "    [theme=dark] .colab-df-convert {\n",
              "      background-color: #3B4455;\n",
              "      fill: #D2E3FC;\n",
              "    }\n",
              "\n",
              "    [theme=dark] .colab-df-convert:hover {\n",
              "      background-color: #434B5C;\n",
              "      box-shadow: 0px 1px 3px 1px rgba(0, 0, 0, 0.15);\n",
              "      filter: drop-shadow(0px 1px 2px rgba(0, 0, 0, 0.3));\n",
              "      fill: #FFFFFF;\n",
              "    }\n",
              "  </style>\n",
              "\n",
              "    <script>\n",
              "      const buttonEl =\n",
              "        document.querySelector('#df-c9196df0-63c5-440d-b9eb-ba801043ec80 button.colab-df-convert');\n",
              "      buttonEl.style.display =\n",
              "        google.colab.kernel.accessAllowed ? 'block' : 'none';\n",
              "\n",
              "      async function convertToInteractive(key) {\n",
              "        const element = document.querySelector('#df-c9196df0-63c5-440d-b9eb-ba801043ec80');\n",
              "        const dataTable =\n",
              "          await google.colab.kernel.invokeFunction('convertToInteractive',\n",
              "                                                    [key], {});\n",
              "        if (!dataTable) return;\n",
              "\n",
              "        const docLinkHtml = 'Like what you see? Visit the ' +\n",
              "          '<a target=\"_blank\" href=https://colab.research.google.com/notebooks/data_table.ipynb>data table notebook</a>'\n",
              "          + ' to learn more about interactive tables.';\n",
              "        element.innerHTML = '';\n",
              "        dataTable['output_type'] = 'display_data';\n",
              "        await google.colab.output.renderOutput(dataTable, element);\n",
              "        const docLink = document.createElement('div');\n",
              "        docLink.innerHTML = docLinkHtml;\n",
              "        element.appendChild(docLink);\n",
              "      }\n",
              "    </script>\n",
              "  </div>\n",
              "\n",
              "\n",
              "    <div id=\"df-bea3861d-a89b-4383-b0bf-6a5bdd66c8ae\">\n",
              "      <button class=\"colab-df-quickchart\" onclick=\"quickchart('df-bea3861d-a89b-4383-b0bf-6a5bdd66c8ae')\"\n",
              "                title=\"Suggest charts\"\n",
              "                style=\"display:none;\">\n",
              "\n",
              "<svg xmlns=\"http://www.w3.org/2000/svg\" height=\"24px\"viewBox=\"0 0 24 24\"\n",
              "     width=\"24px\">\n",
              "    <g>\n",
              "        <path d=\"M19 3H5c-1.1 0-2 .9-2 2v14c0 1.1.9 2 2 2h14c1.1 0 2-.9 2-2V5c0-1.1-.9-2-2-2zM9 17H7v-7h2v7zm4 0h-2V7h2v10zm4 0h-2v-4h2v4z\"/>\n",
              "    </g>\n",
              "</svg>\n",
              "      </button>\n",
              "\n",
              "<style>\n",
              "  .colab-df-quickchart {\n",
              "      --bg-color: #E8F0FE;\n",
              "      --fill-color: #1967D2;\n",
              "      --hover-bg-color: #E2EBFA;\n",
              "      --hover-fill-color: #174EA6;\n",
              "      --disabled-fill-color: #AAA;\n",
              "      --disabled-bg-color: #DDD;\n",
              "  }\n",
              "\n",
              "  [theme=dark] .colab-df-quickchart {\n",
              "      --bg-color: #3B4455;\n",
              "      --fill-color: #D2E3FC;\n",
              "      --hover-bg-color: #434B5C;\n",
              "      --hover-fill-color: #FFFFFF;\n",
              "      --disabled-bg-color: #3B4455;\n",
              "      --disabled-fill-color: #666;\n",
              "  }\n",
              "\n",
              "  .colab-df-quickchart {\n",
              "    background-color: var(--bg-color);\n",
              "    border: none;\n",
              "    border-radius: 50%;\n",
              "    cursor: pointer;\n",
              "    display: none;\n",
              "    fill: var(--fill-color);\n",
              "    height: 32px;\n",
              "    padding: 0;\n",
              "    width: 32px;\n",
              "  }\n",
              "\n",
              "  .colab-df-quickchart:hover {\n",
              "    background-color: var(--hover-bg-color);\n",
              "    box-shadow: 0 1px 2px rgba(60, 64, 67, 0.3), 0 1px 3px 1px rgba(60, 64, 67, 0.15);\n",
              "    fill: var(--button-hover-fill-color);\n",
              "  }\n",
              "\n",
              "  .colab-df-quickchart-complete:disabled,\n",
              "  .colab-df-quickchart-complete:disabled:hover {\n",
              "    background-color: var(--disabled-bg-color);\n",
              "    fill: var(--disabled-fill-color);\n",
              "    box-shadow: none;\n",
              "  }\n",
              "\n",
              "  .colab-df-spinner {\n",
              "    border: 2px solid var(--fill-color);\n",
              "    border-color: transparent;\n",
              "    border-bottom-color: var(--fill-color);\n",
              "    animation:\n",
              "      spin 1s steps(1) infinite;\n",
              "  }\n",
              "\n",
              "  @keyframes spin {\n",
              "    0% {\n",
              "      border-color: transparent;\n",
              "      border-bottom-color: var(--fill-color);\n",
              "      border-left-color: var(--fill-color);\n",
              "    }\n",
              "    20% {\n",
              "      border-color: transparent;\n",
              "      border-left-color: var(--fill-color);\n",
              "      border-top-color: var(--fill-color);\n",
              "    }\n",
              "    30% {\n",
              "      border-color: transparent;\n",
              "      border-left-color: var(--fill-color);\n",
              "      border-top-color: var(--fill-color);\n",
              "      border-right-color: var(--fill-color);\n",
              "    }\n",
              "    40% {\n",
              "      border-color: transparent;\n",
              "      border-right-color: var(--fill-color);\n",
              "      border-top-color: var(--fill-color);\n",
              "    }\n",
              "    60% {\n",
              "      border-color: transparent;\n",
              "      border-right-color: var(--fill-color);\n",
              "    }\n",
              "    80% {\n",
              "      border-color: transparent;\n",
              "      border-right-color: var(--fill-color);\n",
              "      border-bottom-color: var(--fill-color);\n",
              "    }\n",
              "    90% {\n",
              "      border-color: transparent;\n",
              "      border-bottom-color: var(--fill-color);\n",
              "    }\n",
              "  }\n",
              "</style>\n",
              "\n",
              "      <script>\n",
              "        async function quickchart(key) {\n",
              "          const quickchartButtonEl =\n",
              "            document.querySelector('#' + key + ' button');\n",
              "          quickchartButtonEl.disabled = true;  // To prevent multiple clicks.\n",
              "          quickchartButtonEl.classList.add('colab-df-spinner');\n",
              "          try {\n",
              "            const charts = await google.colab.kernel.invokeFunction(\n",
              "                'suggestCharts', [key], {});\n",
              "          } catch (error) {\n",
              "            console.error('Error during call to suggestCharts:', error);\n",
              "          }\n",
              "          quickchartButtonEl.classList.remove('colab-df-spinner');\n",
              "          quickchartButtonEl.classList.add('colab-df-quickchart-complete');\n",
              "        }\n",
              "        (() => {\n",
              "          let quickchartButtonEl =\n",
              "            document.querySelector('#df-bea3861d-a89b-4383-b0bf-6a5bdd66c8ae button');\n",
              "          quickchartButtonEl.style.display =\n",
              "            google.colab.kernel.accessAllowed ? 'block' : 'none';\n",
              "        })();\n",
              "      </script>\n",
              "    </div>\n",
              "\n",
              "    </div>\n",
              "  </div>\n"
            ],
            "application/vnd.google.colaboratory.intrinsic+json": {
              "type": "dataframe",
              "variable_name": "df",
              "summary": "{\n  \"name\": \"df\",\n  \"rows\": 4,\n  \"fields\": [\n    {\n      \"column\": \"a\\u00f1o\",\n      \"properties\": {\n        \"dtype\": \"number\",\n        \"std\": 2.0548046676563256,\n        \"min\": 2010.0,\n        \"max\": 2015.0,\n        \"num_unique_values\": 4,\n        \"samples\": [\n          2015.0,\n          2012.0,\n          2010.0\n        ],\n        \"semantic_type\": \"\",\n        \"description\": \"\"\n      }\n    },\n    {\n      \"column\": \"transmisi\\u00f3n\",\n      \"properties\": {\n        \"dtype\": \"string\",\n        \"num_unique_values\": 2,\n        \"samples\": [\n          \"autom\\u00e1tica\",\n          \"manual\"\n        ],\n        \"semantic_type\": \"\",\n        \"description\": \"\"\n      }\n    },\n    {\n      \"column\": \"millas\",\n      \"properties\": {\n        \"dtype\": \"number\",\n        \"std\": 17078.25127659933,\n        \"min\": 30000.0,\n        \"max\": 70000.0,\n        \"num_unique_values\": 4,\n        \"samples\": [\n          30000.0,\n          40000.0\n        ],\n        \"semantic_type\": \"\",\n        \"description\": \"\"\n      }\n    },\n    {\n      \"column\": \"tipo_de_combustible\",\n      \"properties\": {\n        \"dtype\": \"string\",\n        \"num_unique_values\": 2,\n        \"samples\": [\n          \"diesel\",\n          \"gasolina\"\n        ],\n        \"semantic_type\": \"\",\n        \"description\": \"\"\n      }\n    },\n    {\n      \"column\": \"impuesto\",\n      \"properties\": {\n        \"dtype\": \"number\",\n        \"std\": 21.602468994692867,\n        \"min\": 100.0,\n        \"max\": 150.0,\n        \"num_unique_values\": 4,\n        \"samples\": [\n          150.0,\n          120.0\n        ],\n        \"semantic_type\": \"\",\n        \"description\": \"\"\n      }\n    },\n    {\n      \"column\": \"millas_por_gal\\u00f3n\",\n      \"properties\": {\n        \"dtype\": \"number\",\n        \"std\": 2.943920288775949,\n        \"min\": 28.0,\n        \"max\": 35.0,\n        \"num_unique_values\": 4,\n        \"samples\": [\n          31.0,\n          28.0\n        ],\n        \"semantic_type\": \"\",\n        \"description\": \"\"\n      }\n    },\n    {\n      \"column\": \"tama\\u00f1o_del_motor\",\n      \"properties\": {\n        \"dtype\": \"number\",\n        \"std\": 0.16996731711975946,\n        \"min\": 1.6,\n        \"max\": 2.0,\n        \"num_unique_values\": 4,\n        \"samples\": [\n          2.0,\n          1.7\n        ],\n        \"semantic_type\": \"\",\n        \"description\": \"\"\n      }\n    },\n    {\n      \"column\": \"precio\",\n      \"properties\": {\n        \"dtype\": \"number\",\n        \"std\": 0.14401645996461912,\n        \"min\": 0.6666666666666666,\n        \"max\": 1.0,\n        \"num_unique_values\": 4,\n        \"samples\": [\n          1.0,\n          0.7333333333333333\n        ],\n        \"semantic_type\": \"\",\n        \"description\": \"\"\n      }\n    },\n    {\n      \"column\": \"modelo_A\",\n      \"properties\": {\n        \"dtype\": \"number\",\n        \"std\": 0,\n        \"min\": 0,\n        \"max\": 1,\n        \"num_unique_values\": 2,\n        \"samples\": [\n          0,\n          1\n        ],\n        \"semantic_type\": \"\",\n        \"description\": \"\"\n      }\n    },\n    {\n      \"column\": \"modelo_B\",\n      \"properties\": {\n        \"dtype\": \"number\",\n        \"std\": 0,\n        \"min\": 0,\n        \"max\": 1,\n        \"num_unique_values\": 2,\n        \"samples\": [\n          1,\n          0\n        ],\n        \"semantic_type\": \"\",\n        \"description\": \"\"\n      }\n    }\n  ]\n}"
            }
          },
          "metadata": {},
          "execution_count": 121
        }
      ]
    },
    {
      "cell_type": "markdown",
      "source": [
        "#**Prompts importantes para generar insights de datos y visualizaciones**"
      ],
      "metadata": {
        "id": "WcTAgjCfvLc3"
      }
    },
    {
      "cell_type": "markdown",
      "source": [
        "##**Generar una descripción estadística de los datos:**  \n",
        "Escribe un código en Python para generar la descripción estadística de todas las características utilizadas en el conjunto de datos. Incluye los tipos de datos “object” también.\n"
      ],
      "metadata": {
        "id": "GQ5TlXprv0WP"
      }
    },
    {
      "cell_type": "code",
      "source": [
        "import pandas as pd\n",
        "\n",
        "def descripcion_estadistica(df):\n",
        "    # Descripción estadística para características numéricas\n",
        "    descripcion_numerica = df.describe()\n",
        "\n",
        "    # Descripción estadística para características categóricas\n",
        "    descripcion_categorica = df.select_dtypes(include=['object']).describe()\n",
        "\n",
        "    # Combinar descripciones\n",
        "    print(\"Descripción estadística de características numéricas:\")\n",
        "    print(descripcion_numerica)\n",
        "    print(\"\\nDescripción estadística de características categóricas:\")\n",
        "    print(descripcion_categorica)\n",
        "\n",
        "# Uso\n",
        "descripcion_estadistica(df)\n"
      ],
      "metadata": {
        "colab": {
          "base_uri": "https://localhost:8080/"
        },
        "id": "tma2M_yswBeT",
        "outputId": "2f57a913-7350-477c-a055-09fc847afaf6"
      },
      "execution_count": 122,
      "outputs": [
        {
          "output_type": "stream",
          "name": "stdout",
          "text": [
            "Descripción estadística de características numéricas:\n",
            "               año        millas    impuesto  millas_por_galón  \\\n",
            "count     4.000000      4.000000    4.000000           4.00000   \n",
            "mean   2012.333333  47500.000000  120.000000          31.00000   \n",
            "std       2.054805  17078.251277   21.602469           2.94392   \n",
            "min    2010.000000  30000.000000  100.000000          28.00000   \n",
            "25%    2011.500000  37500.000000  107.500000          29.50000   \n",
            "50%    2012.166667  45000.000000  115.000000          30.50000   \n",
            "75%    2013.000000  55000.000000  127.500000          32.00000   \n",
            "max    2015.000000  70000.000000  150.000000          35.00000   \n",
            "\n",
            "       tamaño_del_motor    precio  modelo_A  modelo_B  \n",
            "count          4.000000  4.000000   4.00000   4.00000  \n",
            "mean           1.766667  0.800000   0.50000   0.50000  \n",
            "std            0.169967  0.144016   0.57735   0.57735  \n",
            "min            1.600000  0.666667   0.00000   0.00000  \n",
            "25%            1.675000  0.716667   0.00000   0.00000  \n",
            "50%            1.733333  0.766667   0.50000   0.50000  \n",
            "75%            1.825000  0.850000   1.00000   1.00000  \n",
            "max            2.000000  1.000000   1.00000   1.00000  \n",
            "\n",
            "Descripción estadística de características categóricas:\n",
            "       transmisión tipo_de_combustible\n",
            "count            4                   4\n",
            "unique           2                   2\n",
            "top         manual              diesel\n",
            "freq             3                   3\n"
          ]
        }
      ]
    },
    {
      "cell_type": "markdown",
      "source": [
        "##**Crear gráficos de regresión entre una variable objetivo y una variable fuente de valor continuo.**  \n",
        "Escribe un código en Python para generar un gráfico de regresión entre una variable objetivo y una variable fuente de un marco de datos."
      ],
      "metadata": {
        "id": "a1AzNrLxwLBv"
      }
    },
    {
      "cell_type": "code",
      "source": [
        "import matplotlib.pyplot as plt\n",
        "import seaborn as sns\n",
        "\n",
        "def grafico_regresion(df, variable_fuente, variable_objetivo):\n",
        "    plt.figure(figsize=(10, 6))\n",
        "    sns.regplot(x=variable_fuente, y=variable_objetivo, data=df)\n",
        "    plt.title(f\"Gráfico de regresión entre {variable_fuente} y {variable_objetivo}\")\n",
        "    plt.xlabel(variable_fuente)\n",
        "    plt.ylabel(variable_objetivo)\n",
        "    plt.show()\n",
        "\n",
        "# Uso\n",
        "variable_fuente = 'millas'  # Reemplaza con el nombre de la variable fuente\n",
        "variable_objetivo = 'precio'  # Reemplaza con el nombre de la variable objetivo\n",
        "grafico_regresion(df, variable_fuente, variable_objetivo)"
      ],
      "metadata": {
        "colab": {
          "base_uri": "https://localhost:8080/",
          "height": 573
        },
        "id": "crUY8VubwcLg",
        "outputId": "cfcb73da-cce2-4255-c171-974bd947c0a8"
      },
      "execution_count": 123,
      "outputs": [
        {
          "output_type": "display_data",
          "data": {
            "text/plain": [
              "<Figure size 1000x600 with 1 Axes>"
            ],
            "image/png": "[encoded data removed]"
          },
          "metadata": {}
        }
      ]
    },
    {
      "cell_type": "markdown",
      "source": [
        "##**Crear diagramas de caja entre una variable objetivo y una variable fuente categórica.**  \n",
        "Escribe un código en Python para generar un diagrama de caja entre una variable objetivo y una variable fuente de un marco de datos."
      ],
      "metadata": {
        "id": "Z08kXqjawlQc"
      }
    },
    {
      "cell_type": "code",
      "source": [
        "import matplotlib.pyplot as plt\n",
        "import seaborn as sns\n",
        "\n",
        "def diagrama_caja(df, variable_fuente, variable_objetivo):\n",
        "    plt.figure(figsize=(10, 6))\n",
        "    sns.boxplot(x=variable_fuente, y=variable_objetivo, data=df)\n",
        "    plt.title(f\"Diagrama de caja entre {variable_fuente} y {variable_objetivo}\")\n",
        "    plt.xlabel(variable_fuente)\n",
        "    plt.ylabel(variable_objetivo)\n",
        "    plt.show()\n",
        "\n",
        "# Uso\n",
        "variable_fuente = 'modelo_A'  # Reemplaza con el nombre de la variable fuente (categórica)\n",
        "variable_objetivo = 'precio'  # Reemplaza con el nombre de la variable objetivo (numérica)\n",
        "diagrama_caja(df, variable_fuente, variable_objetivo)\n"
      ],
      "metadata": {
        "colab": {
          "base_uri": "https://localhost:8080/",
          "height": 573
        },
        "id": "yd4lZn09wxs6",
        "outputId": "e9b6357b-85bb-4d86-e3fb-b1fcff4bdc9b"
      },
      "execution_count": 125,
      "outputs": [
        {
          "output_type": "display_data",
          "data": {
            "text/plain": [
              "<Figure size 1000x600 with 1 Axes>"
            ],
            "image/png": "[encoded data removed]"
          },
          "metadata": {}
        }
      ]
    },
    {
      "cell_type": "markdown",
      "source": [
        "##**Evaluar la interdependencia paramétrica usando correlación, valor p y coeficiente de Pearson**  \n",
        "Escribe un código en Python para evaluar la correlación, el coeficiente de Pearson y los valores p para todos los atributos de un marco de datos en relación con el atributo objetivo."
      ],
      "metadata": {
        "id": "1jjGbGQHw-vq"
      }
    },
    {
      "cell_type": "code",
      "source": [
        "import pandas as pd\n",
        "import numpy as np\n",
        "from scipy.stats import pearsonr\n",
        "\n",
        "def evaluar_correlacion(df, atributo_objetivo):\n",
        "    # Seleccionar atributos numéricos\n",
        "    atributos_numericos = df.select_dtypes(include=['int64', 'float64']).columns\n",
        "\n",
        "    # Eliminar el atributo objetivo de la lista de atributos\n",
        "    atributos_numericos = [atributo for atributo in atributos_numericos if atributo != atributo_objetivo]\n",
        "\n",
        "    # Evaluar correlación, coeficiente de Pearson y valores p\n",
        "    resultados = []\n",
        "    for atributo in atributos_numericos:\n",
        "        correlacion, p_valor = pearsonr(df[atributo], df[atributo_objetivo])\n",
        "        resultados.append({\n",
        "            'Atributo': atributo,\n",
        "            'Correlación': correlacion,\n",
        "            'Valor p': p_valor\n",
        "        })\n",
        "\n",
        "    # Crear un DataFrame con los resultados\n",
        "    df_resultados = pd.DataFrame(resultados)\n",
        "\n",
        "    # Ordenar los resultados por correlación absoluta\n",
        "    df_resultados = df_resultados.sort_values(by='Correlación', key=lambda x: x.abs(), ascending=False)\n",
        "\n",
        "    return df_resultados\n",
        "\n",
        "# Uso\n",
        "atributo_objetivo = 'precio'  # Reemplaza con el nombre del atributo objetivo\n",
        "df_resultados = evaluar_correlacion(df, atributo_objetivo)\n",
        "print(df_resultados)\n"
      ],
      "metadata": {
        "colab": {
          "base_uri": "https://localhost:8080/"
        },
        "id": "PHLkRrJKxLWo",
        "outputId": "eb67a7fc-8d70-40e7-88fc-53ad676029bc"
      },
      "execution_count": 126,
      "outputs": [
        {
          "output_type": "stream",
          "name": "stdout",
          "text": [
            "           Atributo  Correlación   Valor p\n",
            "4  tamaño_del_motor     0.998625  0.001375\n",
            "0               año     0.976221  0.023779\n",
            "2          impuesto     0.928571  0.071429\n",
            "6          modelo_B     0.534522  0.465478\n",
            "5          modelo_A    -0.534522  0.465478\n",
            "1            millas    -0.451754  0.548246\n",
            "3  millas_por_galón     0.262071  0.737929\n"
          ]
        }
      ]
    },
    {
      "cell_type": "code",
      "source": [
        "import pandas as pd\n",
        "import matplotlib.pyplot as plt\n",
        "\n",
        "# Crea un DataFrame con los resultados\n",
        "resultados = pd.DataFrame({\n",
        "    'Atributo': ['año', 'millas', 'impuesto', 'tamaño_del_motor', 'modelo_A', 'modelo_B', 'millas_por_galón'],\n",
        "    'Correlación': [0.976221, -0.451754, 0.928571, 0.998625, -0.534522, 0.534522, 0.262071]\n",
        "})\n",
        "\n",
        "# Plotea un gráfico de barras\n",
        "plt.figure(figsize=(10, 6))\n",
        "plt.bar(resultados['Atributo'], resultados['Correlación'], color=['green' if x > 0 else 'red' for x in resultados['Correlación']])\n",
        "plt.title('Correlación entre atributos y atributo objetivo')\n",
        "plt.xlabel('Atributo')\n",
        "plt.ylabel('Correlación')\n",
        "plt.xticks(rotation=90)\n",
        "plt.axhline(y=0, color='black', linestyle='--')\n",
        "plt.show()"
      ],
      "metadata": {
        "colab": {
          "base_uri": "https://localhost:8080/",
          "height": 701
        },
        "id": "JEPFUyUeHqkc",
        "outputId": "08077d16-e1c8-4794-fcd0-57eaee067741"
      },
      "execution_count": 128,
      "outputs": [
        {
          "output_type": "display_data",
          "data": {
            "text/plain": [
              "<Figure size 1000x600 with 1 Axes>"
            ],
            "image/png": "[encoded data removed]"
          },
          "metadata": {}
        }
      ]
    },
    {
      "cell_type": "markdown",
      "source": [
        "##**Agrupar variables para crear tablas dinámicas. Crear un gráfico p-color para la tabla dinámica.**  \n",
        "Escribe un código en Python que realice las siguientes acciones:\n",
        "1. Agrupa tres atributos como están disponibles en un marco de datos df.\n",
        "2. Crea una tabla dinámica para este grupo, utilizando un atributo objetivo y una función de agregación como media.\n",
        "3. Plotea un gráfico pcolor para esta tabla dinámica."
      ],
      "metadata": {
        "id": "T_bV7EKXyCCQ"
      }
    },
    {
      "cell_type": "code",
      "source": [
        "import pandas as pd\n",
        "import numpy as np\n",
        "import matplotlib.pyplot as plt\n",
        "\n",
        "# Suponiendo que df es tu DataFrame\n",
        "atributo1 = 'año'\n",
        "atributo2 = 'tamaño_del_motor'\n",
        "atributo_objetivo = 'precio'\n",
        "df[atributo_objetivo] = np.random.rand(len(df))  # Agrega esta línea si no tienes una columna 'precio'\n",
        "\n",
        "# Agrupa dos atributos y crea una tabla dinámica\n",
        "tabla_dinamica = pd.pivot_table(df, values=atributo_objetivo, index=atributo1, columns=atributo2, aggfunc=np.mean)\n",
        "\n",
        "# Plotea un gráfico pcolor para la tabla dinámica\n",
        "plt.figure(figsize=(10, 8))\n",
        "plt.pcolor(tabla_dinamica, cmap='hot')\n",
        "plt.title(f\"Tabla dinámica de {atributo_objetivo} por {atributo1} y {atributo2}\")\n",
        "plt.xlabel(atributo2)\n",
        "plt.ylabel(atributo1)\n",
        "plt.xticks(np.arange(len(tabla_dinamica.columns)) + 0.5, tabla_dinamica.columns)\n",
        "plt.yticks(np.arange(len(tabla_dinamica.index)) + 0.5, tabla_dinamica.index)\n",
        "plt.colorbar()\n",
        "plt.show()"
      ],
      "metadata": {
        "colab": {
          "base_uri": "https://localhost:8080/",
          "height": 783
        },
        "id": "kdtl4mdJHOPr",
        "outputId": "3dd76a70-1f78-4785-9857-75b235b9ba91"
      },
      "execution_count": 133,
      "outputs": [
        {
          "output_type": "stream",
          "name": "stderr",
          "text": [
            "<ipython-input-133-50283fc9c271>:12: FutureWarning: The provided callable <function mean at 0x7d41641d1da0> is currently using DataFrameGroupBy.mean. In a future version of pandas, the provided callable will be used directly. To keep current behavior pass the string \"mean\" instead.\n",
            "  tabla_dinamica = pd.pivot_table(df, values=atributo_objetivo, index=atributo1, columns=atributo2, aggfunc=np.mean)\n"
          ]
        },
        {
          "output_type": "display_data",
          "data": {
            "text/plain": [
              "<Figure size 1000x800 with 2 Axes>"
            ],
            "image/png": "[encoded data removed]"
          },
          "metadata": {}
        }
      ]
    },
    {
      "cell_type": "markdown",
      "source": [
        "#**Prompts importantes para el desarrollo y refinamiento del modelo**"
      ],
      "metadata": {
        "id": "xuyvBrsoI7fc"
      }
    },
    {
      "cell_type": "markdown",
      "source": [
        "##**Regresión lineal entre un atributo de origen único y un atributo objetivo y evalúalo**  \n",
        "Escribe un código en Python que realice las siguientes tareas:\n",
        "1. Desarrolle y entrene un modelo de regresión lineal que use un atributo de un marco de datos como variable de origen y otro como variable objetivo.\n",
        "2. Calcule y muestre los valores de MSE y R^2 para el modelo entrenado."
      ],
      "metadata": {
        "id": "-y0iwywfJBoU"
      }
    },
    {
      "cell_type": "code",
      "source": [
        "import pandas as pd\n",
        "from sklearn.model_selection import train_test_split\n",
        "from sklearn.linear_model import LinearRegression\n",
        "from sklearn.metrics import mean_squared_error, r2_score\n",
        "\n",
        "# Suponiendo que df es tu DataFrame\n",
        "atributo_fuente = 'tamaño_del_motor'\n",
        "atributo_objetivo = 'precio'\n",
        "\n",
        "# Divide los datos en conjuntos de entrenamiento y prueba\n",
        "X = df[[atributo_fuente]]\n",
        "y = df[atributo_objetivo]\n",
        "X_train, X_test, y_train, y_test = train_test_split(X, y, test_size=0.2, random_state=42)\n",
        "\n",
        "# Crea y entrena un modelo de regresión lineal\n",
        "modelo = LinearRegression()\n",
        "modelo.fit(X_train, y_train)\n",
        "\n",
        "# Realiza predicciones sobre el conjunto de prueba\n",
        "y_pred = modelo.predict(X_test)\n",
        "\n",
        "# Calcula y muestra los valores de MSE y R^2\n",
        "mse = mean_squared_error(y_test, y_pred)\n",
        "r2 = r2_score(y_test, y_pred)\n",
        "print(f\"MSE: {mse:.2f}\")\n",
        "print(f\"R^2: {r2:.2f}\")\n",
        "\n",
        "# Puedes utilizar el modelo para realizar predicciones sobre nuevos datos\n",
        "nuevo_dato = pd.DataFrame({atributo_fuente: [2000]})\n",
        "prediccion = modelo.predict(nuevo_dato)\n",
        "print(f\"Predicción para {atributo_fuente} = 2000: {prediccion[0]:.2f}\")"
      ],
      "metadata": {
        "colab": {
          "base_uri": "https://localhost:8080/"
        },
        "id": "qeLBVszQJLut",
        "outputId": "5245c13e-ab78-4d92-bd13-d8a52da742bb"
      },
      "execution_count": 134,
      "outputs": [
        {
          "output_type": "stream",
          "name": "stdout",
          "text": [
            "MSE: 0.01\n",
            "R^2: nan\n",
            "Predicción para tamaño_del_motor = 2000: -1570.03\n"
          ]
        },
        {
          "output_type": "stream",
          "name": "stderr",
          "text": [
            "/usr/local/lib/python3.11/dist-packages/sklearn/metrics/_regression.py:1266: UndefinedMetricWarning: R^2 score is not well-defined with less than two samples.\n",
            "  warnings.warn(msg, UndefinedMetricWarning)\n"
          ]
        }
      ]
    },
    {
      "cell_type": "markdown",
      "source": [
        "##**Regresión lineal entre múltiples atributos de origen y atributos objetivo y evalúalo**  \n",
        "Escribe un código en Python que realice las siguientes tareas:\n",
        "1. Desarrolle y entrene un modelo de regresión lineal que use algunos atributos de un marco de datos como variables de origen y uno de los atributos como variable objetivo.\n",
        "2. Calcule y muestre los valores de MSE y R^2 para el modelo entrenado."
      ],
      "metadata": {
        "id": "hYxPX7HrJcj6"
      }
    },
    {
      "cell_type": "code",
      "source": [
        "import pandas as pd\n",
        "from sklearn.model_selection import train_test_split\n",
        "from sklearn.linear_model import LinearRegression\n",
        "from sklearn.metrics import mean_squared_error, r2_score\n",
        "\n",
        "# Suponiendo que df es tu DataFrame\n",
        "atributos_fuente = ['año', 'tamaño_del_motor', 'impuesto']\n",
        "atributo_objetivo = 'precio'\n",
        "\n",
        "# Divide los datos en conjuntos de entrenamiento y prueba\n",
        "X = df[atributos_fuente]\n",
        "y = df[atributo_objetivo]\n",
        "X_train, X_test, y_train, y_test = train_test_split(X, y, test_size=0.2, random_state=42)\n",
        "\n",
        "# Crea y entrena un modelo de regresión lineal\n",
        "modelo = LinearRegression()\n",
        "modelo.fit(X_train, y_train)\n",
        "\n",
        "# Realiza predicciones sobre el conjunto de prueba\n",
        "y_pred = modelo.predict(X_test)\n",
        "\n",
        "# Calcula y muestra los valores de MSE y R^2\n",
        "mse = mean_squared_error(y_test, y_pred)\n",
        "r2 = r2_score(y_test, y_pred)\n",
        "print(f\"MSE: {mse:.2f}\")\n",
        "print(f\"R^2: {r2:.2f}\")\n",
        "\n",
        "# Puedes utilizar el modelo para realizar predicciones sobre nuevos datos\n",
        "nuevo_dato = pd.DataFrame({'año': [2020], 'tamaño_del_motor': [2000], 'impuesto': [150]})\n",
        "prediccion = modelo.predict(nuevo_dato)\n",
        "print(f\"Predicción para año=2020, tamaño_del_motor=2000, impuesto=150: {prediccion[0]:.2f}\")\n",
        "\n",
        "# Coeficientes del modelo\n",
        "print(\"Coeficientes del modelo:\")\n",
        "for atributo, coeficiente in zip(atributos_fuente, modelo.coef_):\n",
        "    print(f\"{atributo}: {coeficiente:.2f}\")\n",
        "print(f\"Intercepto: {modelo.intercept_:.2f}\")"
      ],
      "metadata": {
        "colab": {
          "base_uri": "https://localhost:8080/"
        },
        "id": "Vi8q1VRSJnSN",
        "outputId": "aae5086f-712b-41e0-e108-cd79e7006e07"
      },
      "execution_count": 135,
      "outputs": [
        {
          "output_type": "stream",
          "name": "stdout",
          "text": [
            "MSE: 0.43\n",
            "R^2: nan\n",
            "Predicción para año=2020, tamaño_del_motor=2000, impuesto=150: 4526.46\n",
            "Coeficientes del modelo:\n",
            "año: 0.00\n",
            "tamaño_del_motor: 2.27\n",
            "impuesto: -0.04\n",
            "Intercepto: -4.01\n"
          ]
        },
        {
          "output_type": "stream",
          "name": "stderr",
          "text": [
            "/usr/local/lib/python3.11/dist-packages/sklearn/metrics/_regression.py:1266: UndefinedMetricWarning: R^2 score is not well-defined with less than two samples.\n",
            "  warnings.warn(msg, UndefinedMetricWarning)\n"
          ]
        }
      ]
    },
    {
      "cell_type": "markdown",
      "source": [
        "##**Modelo de regresión polinómica con una variable de origen y una variable objetivo**  \n",
        "Escribe un código en Python que realice las siguientes tareas:\n",
        "1. Desarrolle y entrene múltiples modelos de regresión polinómica, con órdenes 2, 3 y 5, que usen un atributo de un marco de datos como variable de origen y otro como variable objetivo.  \n",
        "2. Calcule y muestre los valores de MSE y R^2 para los modelos entrenados.  \n",
        "3. Compare el rendimiento de los modelos."
      ],
      "metadata": {
        "id": "WgkB89tzJuhF"
      }
    },
    {
      "cell_type": "code",
      "source": [
        "import pandas as pd\n",
        "from sklearn.model_selection import train_test_split\n",
        "from sklearn.preprocessing import PolynomialFeatures\n",
        "from sklearn.linear_model import LinearRegression\n",
        "from sklearn.metrics import mean_squared_error, r2_score\n",
        "import matplotlib.pyplot as plt\n",
        "import numpy as np\n",
        "\n",
        "# Suponiendo que df es tu DataFrame\n",
        "atributo_fuente = 'tamaño_del_motor'\n",
        "atributo_objetivo = 'precio'\n",
        "\n",
        "# Divide los datos en conjuntos de entrenamiento y prueba\n",
        "X = df[[atributo_fuente]]\n",
        "y = df[atributo_objetivo]\n",
        "X_train, X_test, y_train, y_test = train_test_split(X, y, test_size=0.2, random_state=42)\n",
        "\n",
        "# Entrena modelos de regresión polinómica con diferentes órdenes\n",
        "ordenes = [2, 3, 5]\n",
        "modelos = {}\n",
        "\n",
        "for orden in ordenes:\n",
        "    poly_features = PolynomialFeatures(degree=orden)\n",
        "    X_train_poly = poly_features.fit_transform(X_train)\n",
        "    X_test_poly = poly_features.transform(X_test)\n",
        "\n",
        "    modelo = LinearRegression()\n",
        "    modelo.fit(X_train_poly, y_train)\n",
        "    y_pred = modelo.predict(X_test_poly)\n",
        "\n",
        "    mse = mean_squared_error(y_test, y_pred)\n",
        "    r2 = r2_score(y_test, y_pred)\n",
        "\n",
        "    modelos[orden] = {'modelo': modelo, 'mse': mse, 'r2': r2}\n",
        "\n",
        "# Muestra los valores de MSE y R^2 para los modelos entrenados\n",
        "for orden, modelo in modelos.items():\n",
        "    print(f\"Orden {orden}:\")\n",
        "    print(f\"MSE: {modelo['mse']:.2f}\")\n",
        "    print(f\"R^2: {modelo['r2']:.2f}\")\n",
        "    print()\n",
        "\n",
        "# Compara el rendimiento de los modelos\n",
        "mejor_modelo = min(modelos, key=lambda x: modelos[x]['mse'])\n",
        "print(f\"El mejor modelo es el de orden {mejor_modelo} con un MSE de {modelos[mejor_modelo]['mse']:.2f}\")\n",
        "\n",
        "# Visualiza los modelos\n",
        "plt.scatter(X_test, y_test, label='Datos reales')\n",
        "for orden, modelo in modelos.items():\n",
        "    poly_features = PolynomialFeatures(degree=orden)\n",
        "    X_test_poly = poly_features.fit_transform(X_test)\n",
        "    y_pred = modelo['modelo'].predict(X_test_poly)\n",
        "    plt.plot(X_test, y_pred, label=f\"Orden {orden}\")\n",
        "plt.xlabel(atributo_fuente)\n",
        "plt.ylabel(atributo_objetivo)\n",
        "plt.legend()\n",
        "plt.show()"
      ],
      "metadata": {
        "colab": {
          "base_uri": "https://localhost:8080/",
          "height": 823
        },
        "id": "c41c71ubJ5cw",
        "outputId": "a14f24e8-5f03-4393-d802-b6b76925e5f7"
      },
      "execution_count": 136,
      "outputs": [
        {
          "output_type": "stream",
          "name": "stderr",
          "text": [
            "/usr/local/lib/python3.11/dist-packages/sklearn/metrics/_regression.py:1266: UndefinedMetricWarning: R^2 score is not well-defined with less than two samples.\n",
            "  warnings.warn(msg, UndefinedMetricWarning)\n",
            "/usr/local/lib/python3.11/dist-packages/sklearn/metrics/_regression.py:1266: UndefinedMetricWarning: R^2 score is not well-defined with less than two samples.\n",
            "  warnings.warn(msg, UndefinedMetricWarning)\n",
            "/usr/local/lib/python3.11/dist-packages/sklearn/metrics/_regression.py:1266: UndefinedMetricWarning: R^2 score is not well-defined with less than two samples.\n",
            "  warnings.warn(msg, UndefinedMetricWarning)\n"
          ]
        },
        {
          "output_type": "stream",
          "name": "stdout",
          "text": [
            "Orden 2:\n",
            "MSE: 80.62\n",
            "R^2: nan\n",
            "\n",
            "Orden 3:\n",
            "MSE: 96.93\n",
            "R^2: nan\n",
            "\n",
            "Orden 5:\n",
            "MSE: 142.62\n",
            "R^2: nan\n",
            "\n",
            "El mejor modelo es el de orden 2 con un MSE de 80.62\n"
          ]
        },
        {
          "output_type": "display_data",
          "data": {
            "text/plain": [
              "<Figure size 640x480 with 1 Axes>"
            ],
            "image/png": "[encoded data removed]"
          },
          "metadata": {}
        }
      ]
    },
    {
      "cell_type": "markdown",
      "source": [
        "##**Creación de pipeline para escalado, creación de características polinómicas y regresión lineal**  \n",
        "Escribe un código en Python que realice las siguientes tareas:\n",
        "1. Crea un pipeline que realice escalado de parámetros, generación de características polinómicas y regresión lineal. Usa el conjunto de múltiples características como antes para crear este pipeline.  \n",
        "2. Calcula y muestra los valores de MSE y R^2 para el modelo entrenado."
      ],
      "metadata": {
        "id": "PAKPJcfNKJoy"
      }
    },
    {
      "cell_type": "code",
      "source": [
        "import pandas as pd\n",
        "from sklearn.model_selection import train_test_split\n",
        "from sklearn.pipeline import Pipeline\n",
        "from sklearn.preprocessing import StandardScaler, PolynomialFeatures\n",
        "from sklearn.linear_model import LinearRegression\n",
        "from sklearn.metrics import mean_squared_error, r2_score\n",
        "\n",
        "# Suponiendo que df es tu DataFrame\n",
        "atributos_fuente = ['año', 'tamaño_del_motor', 'impuesto']\n",
        "atributo_objetivo = 'precio'\n",
        "\n",
        "# Divide los datos en conjuntos de entrenamiento y prueba\n",
        "X = df[atributos_fuente]\n",
        "y = df[atributo_objetivo]\n",
        "X_train, X_test, y_train, y_test = train_test_split(X, y, test_size=0.2, random_state=42)\n",
        "\n",
        "# Crea un pipeline que realice escalado de parámetros, generación de características polinómicas y regresión lineal\n",
        "pipeline = Pipeline([\n",
        "    ('scaler', StandardScaler()),\n",
        "    ('poly_features', PolynomialFeatures(degree=2)),\n",
        "    ('linear_regression', LinearRegression())\n",
        "])\n",
        "\n",
        "# Entrena el pipeline\n",
        "pipeline.fit(X_train, y_train)\n",
        "\n",
        "# Realiza predicciones sobre el conjunto de prueba\n",
        "y_pred = pipeline.predict(X_test)\n",
        "\n",
        "# Calcula y muestra los valores de MSE y R^2\n",
        "mse = mean_squared_error(y_test, y_pred)\n",
        "r2 = r2_score(y_test, y_pred)\n",
        "print(f\"MSE: {mse:.2f}\")\n",
        "print(f\"R^2: {r2:.2f}\")\n",
        "\n",
        "# Puedes utilizar el pipeline para realizar predicciones sobre nuevos datos\n",
        "nuevo_dato = pd.DataFrame({'año': [2020], 'tamaño_del_motor': [2000], 'impuesto': [150]})\n",
        "prediccion = pipeline.predict(nuevo_dato)\n",
        "print(f\"Predicción para año=2020, tamaño_del_motor=2000, impuesto=150: {prediccion[0]:.2f}\")"
      ],
      "metadata": {
        "colab": {
          "base_uri": "https://localhost:8080/"
        },
        "id": "O9t-Hyj2KWvp",
        "outputId": "282034d7-8af2-473a-ac42-2b9480011f38"
      },
      "execution_count": 137,
      "outputs": [
        {
          "output_type": "stream",
          "name": "stdout",
          "text": [
            "MSE: 1.83\n",
            "R^2: nan\n",
            "Predicción para año=2020, tamaño_del_motor=2000, impuesto=150: 92231635.19\n"
          ]
        },
        {
          "output_type": "stream",
          "name": "stderr",
          "text": [
            "/usr/local/lib/python3.11/dist-packages/sklearn/metrics/_regression.py:1266: UndefinedMetricWarning: R^2 score is not well-defined with less than two samples.\n",
            "  warnings.warn(msg, UndefinedMetricWarning)\n"
          ]
        }
      ]
    },
    {
      "cell_type": "markdown",
      "source": [
        "##**Búsqueda en cuadrícula con regresión ridge y validación cruzada**  \n",
        "Escribe un código en Python que realice las siguientes tareas:\n",
        "1. Usa características polinómicas para algunos de los atributos de un marco de datos.  \n",
        "2. Realiza una búsqueda en cuadrícula en un modelo de regresión ridge para un conjunto de valores del hiperparámetro alpha y características polinómicas como entrada.  \n",
        "3. Usa validación cruzada en la búsqueda en cuadrícula.  \n",
        "4. Evalúa los valores de MSE y R^2 del modelo resultante.  "
      ],
      "metadata": {
        "id": "YcHVK6mUKieU"
      }
    },
    {
      "cell_type": "code",
      "source": [
        "import pandas as pd\n",
        "from sklearn.model_selection import train_test_split, GridSearchCV\n",
        "from sklearn.preprocessing import PolynomialFeatures\n",
        "from sklearn.linear_model import Ridge\n",
        "from sklearn.pipeline import Pipeline\n",
        "from sklearn.metrics import mean_squared_error, r2_score\n",
        "\n",
        "# Suponiendo que df es tu DataFrame\n",
        "atributos_fuente = ['año', 'tamaño_del_motor', 'impuesto']\n",
        "atributo_objetivo = 'precio'\n",
        "\n",
        "# Divide los datos en conjuntos de entrenamiento y prueba\n",
        "X = df[atributos_fuente]\n",
        "y = df[atributo_objetivo]\n",
        "X_train, X_test, y_train, y_test = train_test_split(X, y, test_size=0.2, random_state=42)\n",
        "\n",
        "# Crea un pipeline que realice características polinómicas y regresión ridge\n",
        "pipeline = Pipeline([\n",
        "    ('poly_features', PolynomialFeatures(degree=2)),\n",
        "    ('ridge_regression', Ridge())\n",
        "])\n",
        "\n",
        "# Define los hiperparámetros a buscar\n",
        "param_grid = {\n",
        "    'poly_features__degree': [1, 2, 3],\n",
        "    'ridge_regression__alpha': [0.1, 1, 10]\n",
        "}\n",
        "\n",
        "# Realiza la búsqueda en cuadrícula con validación cruzada\n",
        "grid_search = GridSearchCV(pipeline, param_grid, cv=min(5, len(X_train)), scoring='neg_mean_squared_error')\n",
        "grid_search.fit(X_train, y_train)  # Ajusta el objeto GridSearchCV\n",
        "\n",
        "# Muestra los mejores hiperparámetros\n",
        "print(\"Mejores hiperparámetros:\")\n",
        "print(grid_search.best_params_)\n",
        "\n",
        "# Evalúa los valores de MSE y R^2 del modelo resultante\n",
        "y_pred = grid_search.best_estimator_.predict(X_test)\n",
        "mse = mean_squared_error(y_test, y_pred)\n",
        "r2 = r2_score(y_test, y_pred)\n",
        "print(f\"MSE: {mse:.2f}\")\n",
        "print(f\"R^2: {r2:.2f}\")\n",
        "\n",
        "# Puedes utilizar el modelo para realizar predicciones sobre nuevos datos\n",
        "nuevo_dato = pd.DataFrame({'año': [2020], 'tamaño_del_motor': [2000], 'impuesto': [150]})\n",
        "prediccion = grid_search.best_estimator_.predict(nuevo_dato)\n",
        "print(f\"Predicción para año=2020, tamaño_del_motor=2000, impuesto=150: {prediccion[0]:.2f}\")"
      ],
      "metadata": {
        "colab": {
          "base_uri": "https://localhost:8080/"
        },
        "id": "BkjRgavtKsj2",
        "outputId": "ed14ffc1-e5b0-4a9d-bdce-d5b6a3ba9269"
      },
      "execution_count": 140,
      "outputs": [
        {
          "output_type": "stream",
          "name": "stdout",
          "text": [
            "Mejores hiperparámetros:\n",
            "{'poly_features__degree': 1, 'ridge_regression__alpha': 10}\n",
            "MSE: 0.73\n",
            "R^2: nan\n",
            "Predicción para año=2020, tamaño_del_motor=2000, impuesto=150: 2.92\n"
          ]
        },
        {
          "output_type": "stream",
          "name": "stderr",
          "text": [
            "/usr/local/lib/python3.11/dist-packages/sklearn/linear_model/_ridge.py:252: LinAlgWarning: Ill-conditioned matrix (rcond=9.85404e-17): result may not be accurate.\n",
            "  dual_coef = linalg.solve(K, y, assume_a=\"pos\", overwrite_a=False)\n",
            "/usr/local/lib/python3.11/dist-packages/sklearn/linear_model/_ridge.py:252: LinAlgWarning: Ill-conditioned matrix (rcond=3.39946e-17): result may not be accurate.\n",
            "  dual_coef = linalg.solve(K, y, assume_a=\"pos\", overwrite_a=False)\n",
            "/usr/local/lib/python3.11/dist-packages/sklearn/metrics/_regression.py:1266: UndefinedMetricWarning: R^2 score is not well-defined with less than two samples.\n",
            "  warnings.warn(msg, UndefinedMetricWarning)\n"
          ]
        }
      ]
    }
  ]
}