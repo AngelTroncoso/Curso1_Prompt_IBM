{
  "nbformat": 4,
  "nbformat_minor": 0,
  "metadata": {
    "colab": {
      "provenance": [],
      "authorship_tag": "ABX9TyNPO6pqvPKEOofz+SumVqCE",
      "include_colab_link": true
    },
    "kernelspec": {
      "name": "python3",
      "display_name": "Python 3"
    },
    "language_info": {
      "name": "python"
    }
  },
  "cells": [
    {
      "cell_type": "markdown",
      "metadata": {
        "id": "view-in-github",
        "colab_type": "text"
      },
      "source": [
        "<a href=\"https://colab.research.google.com/github/AngelTroncoso/Curso1_Prompt_IBM/blob/main/Curso2_Prompt_IBM.ipynb\" target=\"_parent\"><img src=\"https://colab.research.google.com/assets/colab-badge.svg\" alt=\"Open In Colab\"/></a>"
      ]
    },
    {
      "cell_type": "markdown",
      "source": [
        "#**Preparación de Datos**  \n",
        "\n",
        "##**Limpieza de Datos**"
      ],
      "metadata": {
        "id": "Gt8t1h_0N9fp"
      }
    },
    {
      "cell_type": "markdown",
      "source": [
        "En esta etapa, es necesario limpiar los datos. Como se te ha informado, los datos pueden tener valores faltantes y entradas duplicadas. Escribe un prompt que realice las siguientes tareas:\n",
        "\n",
        "1.Identifica las columnas con valores faltantes y llena las celdas en blanco con el valor promedio de las columnas.  \n",
        "2.Identifica y elimina las entradas duplicadas de los datos."
      ],
      "metadata": {
        "id": "_sG1N_0UOMp7"
      }
    },
    {
      "cell_type": "code",
      "source": [],
      "metadata": {
        "id": "97mEGL77N9KA"
      },
      "execution_count": null,
      "outputs": []
    },
    {
      "cell_type": "code",
      "execution_count": null,
      "metadata": {
        "id": "KoasDaaiN4Uj"
      },
      "outputs": [],
      "source": []
    },
    {
      "cell_type": "markdown",
      "source": [
        "#**Aumento de Datos (opcional)**"
      ],
      "metadata": {
        "id": "Ox5Y4rttOUVI"
      }
    },
    {
      "cell_type": "markdown",
      "source": [
        "Una vez limpiado, puedes optar por aumentar este conjunto de datos con muestras adicionales, creadas sintéticamente utilizando Mostly.ai."
      ],
      "metadata": {
        "id": "KtBWiFFyOdXp"
      }
    },
    {
      "cell_type": "code",
      "source": [],
      "metadata": {
        "id": "dDsL6yfAPDNC"
      },
      "execution_count": null,
      "outputs": []
    },
    {
      "cell_type": "code",
      "source": [],
      "metadata": {
        "id": "0S3YFqzrPDDk"
      },
      "execution_count": null,
      "outputs": []
    },
    {
      "cell_type": "markdown",
      "source": [
        "##**Perspectivas de Datos y Visualización**"
      ],
      "metadata": {
        "id": "ahot-tOMPDr5"
      }
    },
    {
      "cell_type": "markdown",
      "source": [
        "**Escribe indicaciones que generen códigos para realizar las siguientes acciones:**\n",
        "\n",
        "1.Identificar los 5 atributos que tienen la mayor correlación con el parámetro price.  \n",
        "2.Cuenta el número de coches bajo cada valor único del atributo fuelType.  \n",
        "3.Crea un diagrama de caja para determinar si los coches con transmisión automática, manual o semi-automática tienen más valores atípicos en el precio. Usa la biblioteca Seaborn para crear el gráfico.  \n",
        "4.Genera el gráfico de regresión entre el parámetro mpg y el precio para determinar el tipo de correlación entre los dos."
      ],
      "metadata": {
        "id": "6OzuSrDSPJYW"
      }
    },
    {
      "cell_type": "code",
      "source": [],
      "metadata": {
        "id": "WwSs9V3tPg4J"
      },
      "execution_count": null,
      "outputs": []
    },
    {
      "cell_type": "code",
      "source": [],
      "metadata": {
        "id": "DQP6oPK_PgwK"
      },
      "execution_count": null,
      "outputs": []
    },
    {
      "cell_type": "code",
      "source": [],
      "metadata": {
        "id": "T2uMANj8PgnR"
      },
      "execution_count": null,
      "outputs": []
    },
    {
      "cell_type": "code",
      "source": [],
      "metadata": {
        "id": "V1tjNupfPgWO"
      },
      "execution_count": null,
      "outputs": []
    },
    {
      "cell_type": "markdown",
      "source": [
        "##**Desarrollo y Evaluación de Modelos**"
      ],
      "metadata": {
        "id": "W0lDXKYyPhQg"
      }
    },
    {
      "cell_type": "markdown",
      "source": [
        "**Escribe indicaciones que generen códigos para realizar las siguientes acciones.**\n",
        "\n",
        "1.Ajustar un modelo de regresión lineal para predecir el precio utilizando la característica mpg. Luego calcula los valores de R^2 y MSE para el modelo\n",
        "\n",
        "---\n",
        "2.Ajusta un modelo de regresión lineal para predecir el precio utilizando el siguiente conjunto de características.\n",
        "año, kilometraje, impuesto, mpg y tamañoDelMotor.\n",
        "Calcula los valores de R^2 y MSE para este modelo.  \n",
        "\n",
        "---\n",
        "3.Para el mismo conjunto de características que en la pregunta anterior, crea un objeto de modelo de pipeline que use un escalar estándar, características polinómicas de segundo grado y un modelo de regresión lineal. Calcula el valor de R^2 y el valor de MSE para este modelo.\n",
        "\n",
        "---\n",
        "4.Para el mismo conjunto de características, divide los datos en partes de entrenamiento y prueba. Asume que la parte de prueba es el 20%. Crea y ajusta un objeto de regresión Ridge utilizando los datos de entrenamiento, establece el parámetro de regularización en 0.1 y calcula el R^2 utilizando los datos de prueba.  \n",
        "\n",
        "---\n",
        "5.Realice una transformación polinómica de segundo orden tanto en los datos de entrenamiento como en los datos de prueba creados para la pregunta anterior. Cree y ajuste un objeto de regresión Ridge utilizando los datos de entrenamiento modificados, establezca el parámetro de regularización en 0.1 y calcule el R^2 y el MSE utilizando los datos de prueba modificados.  \n",
        "\n",
        "---\n",
        "6.En la pregunta anterior, realiza una búsqueda en cuadrícula en la regresión ridge para un conjunto de valores de alpha {0.01, 0.1, 1, 10, 100} con validación cruzada de 4 pliegues para encontrar el valor óptimo de alpha que se utilizará para el modelo de predicción.\n",
        "\n",
        "---"
      ],
      "metadata": {
        "id": "2N_AqgS9Pmyg"
      }
    },
    {
      "cell_type": "code",
      "source": [],
      "metadata": {
        "id": "EEHvP3QRQNQy"
      },
      "execution_count": null,
      "outputs": []
    },
    {
      "cell_type": "code",
      "source": [],
      "metadata": {
        "id": "60k44Vo9QNO4"
      },
      "execution_count": null,
      "outputs": []
    },
    {
      "cell_type": "code",
      "source": [],
      "metadata": {
        "id": "nxyC-_iuQNMQ"
      },
      "execution_count": null,
      "outputs": []
    },
    {
      "cell_type": "code",
      "source": [],
      "metadata": {
        "id": "KEx4zsyZQNI6"
      },
      "execution_count": null,
      "outputs": []
    },
    {
      "cell_type": "code",
      "source": [],
      "metadata": {
        "id": "iT7Pg2HfQNFc"
      },
      "execution_count": null,
      "outputs": []
    },
    {
      "cell_type": "code",
      "source": [],
      "metadata": {
        "id": "an7wgpzGQNAv"
      },
      "execution_count": null,
      "outputs": []
    },
    {
      "cell_type": "markdown",
      "source": [
        "##**Conclusión**"
      ],
      "metadata": {
        "id": "iBV1u0iWQPEt"
      }
    },
    {
      "cell_type": "markdown",
      "source": [
        "¡Felicidades! Has completado este proyecto guiado sobre el uso de la IA Generativa para diferentes tareas de ciencia de datos.\n",
        "\n",
        "Al final de este proyecto, ahora eres capaz de utilizar la IA Generativa para las tareas de:\n",
        "\n",
        "Preparación de datos: limpieza, transformación y aumento\n",
        "Análisis de datos: obtención de información, creación de visualizaciones\n",
        "Desarrollo de modelos: creación de modelos de predicción simples y complejos\n",
        "Refinamiento de modelos: encontrar el modelo óptimo utilizando Grid Search"
      ],
      "metadata": {
        "id": "eMgTnYmuQVAe"
      }
    }
  ]
}